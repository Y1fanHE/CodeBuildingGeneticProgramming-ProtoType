{
 "cells": [
  {
   "cell_type": "code",
   "execution_count": 1,
   "metadata": {},
   "outputs": [],
   "source": [
    "from typing import Callable, Tuple, Sequence\n",
    "\n",
    "from push4.expression import LiteralExpression, RegisterExpression, expression_from_function\n",
    "import push4.interpreter as push"
   ]
  },
  {
   "cell_type": "markdown",
   "metadata": {},
   "source": [
    "# Push4 - (Name TBD)\n",
    "\n",
    "The framework changes the way Push is used for program synthesis. Instead of using a Push interpreter to execute programs, it uses Push to compile a linear (or nested) structure of `Expressions` into a DAG/tree that serves a the program/function that was evoled.\n",
    "\n",
    "The key features are:\n",
    "- No need to specify any atom generators, instruction sets, or Push types.\n",
    "- Evolving program that use the functions/types defined in an existing codebase. This includes collection types.\n",
    "- Reusing programs is much faster because the Push language is only used during evolution.\n",
    "- **The evolved programs can be converted into source code of the host language!**"
   ]
  },
  {
   "cell_type": "markdown",
   "metadata": {},
   "source": [
    "## Some Pure Functions\n",
    "\n",
    "This version of Push does not use a pre-defined set of Types, Stacks, or Instructions. Instead, a set of functions **with type hints** is supplied and the necessary typing information is captured via reflection.\n",
    "\n",
    "These must be pure fnctions. No side effects. No updating mutable sta|te."
   ]
  },
  {
   "cell_type": "code",
   "execution_count": 2,
   "metadata": {},
   "outputs": [],
   "source": [
    "def int_add(a: int, b: int) -> int:\n",
    "    return a + b\n",
    "\n",
    "\n",
    "def int_mult(a: int, b: int) -> int:\n",
    "    return a * b\n",
    "\n",
    "\n",
    "def str_repeat(s: str, n: int) -> str:\n",
    "    return s * n\n",
    "\n",
    "\n",
    "def str_split(s: str, on: str) -> Sequence[str]:\n",
    "    return s.split(on)\n",
    "\n",
    "\n",
    "def first(seq: Sequence[str]) -> str:\n",
    "    return seq[0]"
   ]
  },
  {
   "cell_type": "markdown",
   "metadata": {},
   "source": [
    "If we call `int_add` from within our own funciton, we would need to supply `a` and `b`. They could come from constants, our function's parameters, or the result of calling another function with returns an `int`.\n",
    "\n",
    "We will represent our program as a tree of `Expressions`. An `Expression` is a wrapped funciton or literal with an explicit return type. To safely generate a valid `Expression` tree from a linear genome, we will use Push."
   ]
  },
  {
   "cell_type": "markdown",
   "metadata": {},
   "source": [
    "## Genome of Anything\n",
    "\n",
    "Our genomes is a linear sequence of objects. Every gene is translated into an `Expression`. Expressions are a wrapper for some code (function or literal) which denotes the data type that will be returned by the underlying code. To determine how what kind of expression each gene should be, we only need to know the gene's type (ie. function, tuple, something else).\n",
    "\n",
    "The `(int, str, type)` tuples seen in the genome are a hack to account for the fact that Python does not have first class symbols. They represent the position and name of a symbol that will be injected from the inputs to our final program. \n",
    "\n",
    "The genome below corresponds to a program with the following signature:\n",
    "\n",
    "```py\n",
    "def repeat_first_word(text: str, times: int) -> str:\n",
    "    ...\n",
    "```\n",
    "\n",
    "The program should split on a space character and return a string with the first word repeated some number of times.\n",
    "For example: `(\"Hello World\", 3)` should yeild `\"HelloHelloHello\"`."
   ]
  },
  {
   "cell_type": "code",
   "execution_count": 3,
   "metadata": {},
   "outputs": [],
   "source": [
    "genome = [\n",
    "    \" \",\n",
    "    (0, \"text\", str),  # Arg 0 is called \"text\" and is a str.\n",
    "    str_split,\n",
    "    False,             # Useless literal. Push will handle it.\n",
    "    first,\n",
    "    (1, \"times\", int), # Arg 1 is called \"times\" and is an int.\n",
    "    str_repeat,\n",
    "    int_add,           # Useless function. Push will handle it.\n",
    "]"
   ]
  },
  {
   "cell_type": "markdown",
   "metadata": {},
   "source": [
    "## Push Into A Program\n",
    "\n",
    "Unlike other Push implementations, this version uses the Push execution model to compile a DAG/tree which can be 1) executed as a program, 2) printed out as source code, and 3) possibly optimized using some kind of algebra.\n",
    "\n",
    "The execution loop is as follows:\n",
    "\n",
    "  1. Let `G` be the next gene in the genome.\n",
    "  2. Convert `G` into an expression, `E`, based on its type.\n",
    "  3. If `E` doesn't require inputs (aka is a literal or input symbol)\n",
    "    1. Wrap `E` in a leaf node and put on the stack corresponding to the expressions output data type.\n",
    "  4. If `E` requires inputs (aka a \"function\" expression)\n",
    "    1. Let `T` be vector of types required by arguments of `E`.\n",
    "    2. If there are insuffient nodes from the stacks corresponding to the types in `T`...\n",
    "      1. Discard `E`\n",
    "    3. Otherwise...\n",
    "      1. Pop the nodes from the stacks corresponding to each evlement of `T`.\n",
    "      2. Wrap `E` in a non-leaf node and use the popped nodes as its children.\n",
    "      3. Push the node (and children) to the stack corresponding to `E`'s output type as a sin|gle element.\n",
    "      \n",
    "After all genes have been \"compiled\", the one Node can be popped from a stack and used as our program. We choose the stack that corresponds to the data type which we want our program to produce."
   ]
  },
  {
   "cell_type": "markdown",
   "metadata": {},
   "source": [
    "Below is a Push trace of proccessing the above genome. You can see that the Push state starts off with no stacks. Stacks are added as new `Expression` return types are encountered. Also, notice how collection types don't need to be treated any differently than atomic types.\n",
    "\n",
    "Step 2 applies evaluated the `str_split(str,str)->Sequence[str]` Expression. The expression require 2 str arguments. There are already 2 Expression Nodes that return sstrings on the `str` stack. Those nodes are consumed and used as the children to the `str_split` expression, which is placed on the `Sequence[str]` stack (see step 3).\n",
    "\n",
    "After Push evaluation, we take ask the interpreter/compiler to pop the top Node off the `Expression[String]` stack and convert it into an `Expression[Tree]` that acts as our program."
   ]
  },
  {
   "cell_type": "code",
   "execution_count": 4,
   "metadata": {},
   "outputs": [
    {
     "name": "stdout",
     "output_type": "stream",
     "text": [
      "0 - Evaluating ' ':str\n",
      "\n",
      "1 - Evaluating symbol:text:str\n",
      "str : [Node<' ':str>]\n",
      "\n",
      "2 - Evaluating str_split(str,str)->Sequence[str]\n",
      "str : [Node<symbol:text:str>, Node<' ':str>]\n",
      "\n",
      "3 - Evaluating False:bool\n",
      "str : []\n",
      "Sequence[str] : [Node<str_split(str,str)->Sequence[str]>]\n",
      "\n",
      "4 - Evaluating first(Sequence[str])->str\n",
      "str : []\n",
      "Sequence[str] : [Node<str_split(str,str)->Sequence[str]>]\n",
      "bool : [Node<False:bool>]\n",
      "\n",
      "5 - Evaluating symbol:times:int\n",
      "str : [Node<first(Sequence[str])->str>]\n",
      "Sequence[str] : []\n",
      "bool : [Node<False:bool>]\n",
      "\n",
      "6 - Evaluating str_repeat(str,int)->str\n",
      "str : [Node<first(Sequence[str])->str>]\n",
      "Sequence[str] : []\n",
      "bool : [Node<False:bool>]\n",
      "int : [Node<symbol:times:int>]\n",
      "\n",
      "7 - Evaluating int_add(int,int)->int\n",
      "str : [Node<str_repeat(str,int)->str>]\n",
      "Sequence[str] : []\n",
      "bool : [Node<False:bool>]\n",
      "int : []\n",
      "\n"
     ]
    }
   ],
   "source": [
    "program = push.run(genome, str)"
   ]
  },
  {
   "cell_type": "markdown",
   "metadata": {},
   "source": [
    "We can visualize the program as a tree. This is much easier for humans to understand than a traditional Push program."
   ]
  },
  {
   "cell_type": "code",
   "execution_count": 5,
   "metadata": {},
   "outputs": [
    {
     "name": "stdout",
     "output_type": "stream",
     "text": [
      " - str_repeat(str,int):str\n",
      " |  - first(Sequence[str]):str\n",
      " |  |  - str_split(str,str):Sequence[str]\n",
      " |  |  |  - symbol:text:str\n",
      " |  |  |  - ' ':str\n",
      " |  - symbol:times:int\n"
     ]
    }
   ],
   "source": [
    "program.pprint()"
   ]
  },
  {
   "cell_type": "markdown",
   "metadata": {},
   "source": [
    "Let's test out our program. Recall the signature was `(text: str, times: int) -> str`.\n",
    "\n",
    "This does not require Push, and should be much faster to execute. "
   ]
  },
  {
   "cell_type": "code",
   "execution_count": 6,
   "metadata": {},
   "outputs": [
    {
     "data": {
      "text/plain": [
       "'HelloHello'"
      ]
     },
     "execution_count": 6,
     "metadata": {},
     "output_type": "execute_result"
    }
   ],
   "source": [
    "program.eval(\"Hello World\", 2)"
   ]
  },
  {
   "cell_type": "code",
   "execution_count": 7,
   "metadata": {},
   "outputs": [
    {
     "data": {
      "text/plain": [
       "'HiHiHi'"
      ]
     },
     "execution_count": 7,
     "metadata": {},
     "output_type": "execute_result"
    }
   ],
   "source": [
    "program.eval(\"Hi\", 3)"
   ]
  },
  {
   "cell_type": "markdown",
   "metadata": {},
   "source": [
    "### Generating Python Source Code\n",
    "\n",
    "The program seems to be working, but there's more! If we give the program a name and some argument names we can generate source code! "
   ]
  },
  {
   "cell_type": "code",
   "execution_count": 8,
   "metadata": {},
   "outputs": [
    {
     "name": "stdout",
     "output_type": "stream",
     "text": [
      "def repeat_first_word(text: str, times: int) -> str:\n",
      "    return str_repeat(first(str_split(text, ' ')), times)\n"
     ]
    }
   ],
   "source": [
    "code = program.to_code(\n",
    "    function_name=\"repeat_first_word\", \n",
    "    args=[(\"text\", str), (\"times\", int)]\n",
    ")\n",
    "print(code)"
   ]
  },
  {
   "cell_type": "markdown",
   "metadata": {},
   "source": [
    "## Test out the generated code"
   ]
  },
  {
   "cell_type": "code",
   "execution_count": 9,
   "metadata": {},
   "outputs": [],
   "source": [
    "def repeat_first_word(text: str, times: int) -> str:\n",
    "    return str_repeat(first(str_split(text, ' ')), times)"
   ]
  },
  {
   "cell_type": "code",
   "execution_count": 10,
   "metadata": {},
   "outputs": [
    {
     "data": {
      "text/plain": [
       "'HelloHello'"
      ]
     },
     "execution_count": 10,
     "metadata": {},
     "output_type": "execute_result"
    }
   ],
   "source": [
    "repeat_first_word(\"Hello World\", 2)"
   ]
  },
  {
   "cell_type": "code",
   "execution_count": 11,
   "metadata": {},
   "outputs": [
    {
     "data": {
      "text/plain": [
       "'HiHiHi'"
      ]
     },
     "execution_count": 11,
     "metadata": {},
     "output_type": "execute_result"
    }
   ],
   "source": [
    "repeat_first_word(\"Hi\", 3)"
   ]
  },
  {
   "cell_type": "markdown",
   "metadata": {},
   "source": [
    "## Some Commens and Concerns\n",
    "\n",
    "#### Less control over behavior\n",
    "\n",
    "We no long control the behavior of the \"atomic\" code units.  Clojush controls instruction implemenations. Unless we implement safe functions to use in genomes, doing evolution this way will re-introduce the possibility of runtime errors.\n",
    "\n",
    "#### What about the exec?\n",
    "\n",
    "In this system, we don't have the ability to use the exec stack for control flow because Push is only building the program. To maintain control flow in our programs, we would need to capture it in the DAG (:barf:) or in the functions. This might not be so bad with the addition of collections and higher order functions.\n",
    "\n",
    "The exec stack might still have a use. Including iteration in the Push evaluation would create redundancy in the DAG/tree which might help evolution.\n",
    "\n"
   ]
  },
  {
   "cell_type": "code",
   "execution_count": null,
   "metadata": {},
   "outputs": [],
   "source": []
  }
 ],
 "metadata": {
  "kernelspec": {
   "display_name": "Python 3",
   "language": "python",
   "name": "python3"
  },
  "language_info": {
   "codemirror_mode": {
    "name": "ipython",
    "version": 3
   },
   "file_extension": ".py",
   "mimetype": "text/x-python",
   "name": "python",
   "nbconvert_exporter": "python",
   "pygments_lexer": "ipython3",
   "version": "3.7.0"
  }
 },
 "nbformat": 4,
 "nbformat_minor": 2
}
